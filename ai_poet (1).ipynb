{
 "cells": [
  {
   "cell_type": "code",
   "execution_count": null,
   "id": "29ddbd42-02bd-4668-bf2c-cf72955eb698",
   "metadata": {},
   "outputs": [],
   "source": []
  }
 ],
 "metadata": {
  "kernelspec": {
   "display_name": "",
   "name": ""
  },
  "language_info": {
   "name": ""
  }
 },
 "nbformat": 4,
 "nbformat_minor": 5
}
